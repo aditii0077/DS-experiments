{
  "nbformat": 4,
  "nbformat_minor": 0,
  "metadata": {
    "colab": {
      "private_outputs": true,
      "provenance": [],
      "authorship_tag": "ABX9TyPddma6pgJqH4YEpB4UtGyP",
      "include_colab_link": true
    },
    "kernelspec": {
      "name": "python3",
      "display_name": "Python 3"
    },
    "language_info": {
      "name": "python"
    }
  },
  "cells": [
    {
      "cell_type": "markdown",
      "metadata": {
        "id": "view-in-github",
        "colab_type": "text"
      },
      "source": [
        "<a href=\"https://colab.research.google.com/github/aditii0077/DS-experiments/blob/main/47_ADITI_K_DS_END_TERM_LCA_3.ipynb\" target=\"_parent\"><img src=\"https://colab.research.google.com/assets/colab-badge.svg\" alt=\"Open In Colab\"/></a>"
      ]
    },
    {
      "cell_type": "code",
      "execution_count": null,
      "metadata": {
        "id": "tIy9xmYwFVdI"
      },
      "outputs": [],
      "source": [
        "#DS LCA"
      ]
    },
    {
      "cell_type": "code",
      "source": [
        "import pandas as pd\n",
        "import matplotlib.pyplot as plt\n",
        "import seaborn as sns\n"
      ],
      "metadata": {
        "id": "8-ht0y9EFafi"
      },
      "execution_count": null,
      "outputs": []
    },
    {
      "cell_type": "code",
      "source": [
        "#load iris dataset\n",
        "df = sns.load_dataset('iris')\n"
      ],
      "metadata": {
        "id": "JlrRAh4LFa7s"
      },
      "execution_count": null,
      "outputs": []
    },
    {
      "cell_type": "code",
      "source": [
        "# Bar plot for average sepal length by species\n",
        "plt.figure(figsize=(8, 6))\n",
        "sns.barplot(x='species', y='sepal_length', data=df, palette='muted')\n",
        "plt.title('Bar Plot: Average Sepal Length by Species')\n",
        "plt.xlabel('Species')\n",
        "plt.ylabel('Average Sepal Length (cm)')\n",
        "plt.show()\n"
      ],
      "metadata": {
        "id": "P8b8inwdGOZu"
      },
      "execution_count": null,
      "outputs": []
    },
    {
      "cell_type": "code",
      "source": [
        "# Histogram of sepal length\n",
        "plt.figure(figsize=(8, 6))\n",
        "sns.histplot(df['sepal_length'], bins=20, kde=True)\n",
        "plt.title('Histogram: Sepal Length Distribution')\n",
        "plt.xlabel('Sepal Length (cm)')\n",
        "plt.ylabel('Frequency')\n",
        "plt.show()\n"
      ],
      "metadata": {
        "id": "vMrOMw69GTC2"
      },
      "execution_count": null,
      "outputs": []
    },
    {
      "cell_type": "code",
      "source": [
        "# Box plot for sepal length by species\n",
        "plt.figure(figsize=(8, 6))\n",
        "sns.boxplot(x='species', y='sepal_length', data=df, palette='pastel')\n",
        "plt.title('Box Plot: Sepal Length by Species')\n",
        "plt.xlabel('Species')\n",
        "plt.ylabel('Sepal Length (cm)')\n",
        "plt.show()\n"
      ],
      "metadata": {
        "id": "6loh8_b3GbE-"
      },
      "execution_count": null,
      "outputs": []
    },
    {
      "cell_type": "code",
      "source": [
        "# Line chart for sepal length and width\n",
        "plt.figure(figsize=(10, 6))\n",
        "plt.plot(df.index, df['sepal_length'], label='Sepal Length', marker='o')\n",
        "plt.plot(df.index, df['sepal_width'], label='Sepal Width', marker='x')\n",
        "plt.title('Line Chart: Sepal Length and Width over Samples')\n",
        "plt.xlabel('Sample Index')\n",
        "plt.ylabel('Measurements (cm)')\n",
        "plt.legend()\n",
        "plt.show()\n"
      ],
      "metadata": {
        "id": "zTD2_PweGgwY"
      },
      "execution_count": null,
      "outputs": []
    },
    {
      "cell_type": "code",
      "source": [],
      "metadata": {
        "id": "TJADBSWJGjV9"
      },
      "execution_count": null,
      "outputs": []
    }
  ]
}